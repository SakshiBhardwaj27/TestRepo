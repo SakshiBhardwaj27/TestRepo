{
 "cells": [
  {
   "cell_type": "markdown",
   "id": "d94386be-ee25-4b48-9e38-41a55035ddcc",
   "metadata": {},
   "source": [
    "## Exercise 2: Title Markdown Cell"
   ]
  },
  {
   "cell_type": "markdown",
   "id": "a5175e4a-e0d8-4ff1-953e-6c6098848fdf",
   "metadata": {},
   "source": [
    "# Data Science Tools and Ecosystem\n"
   ]
  },
  {
   "cell_type": "markdown",
   "id": "65a1bdba-96b4-4c87-bc94-2f17d995adf0",
   "metadata": {},
   "source": [
    "## Exercise 3: Introduction Markdown Cell"
   ]
  },
  {
   "cell_type": "markdown",
   "id": "dfd41801-ebde-4057-a7bc-3f2a0537537b",
   "metadata": {},
   "source": [
    "In this notebook, Data Science Tools and Ecosystem are summarized.\n"
   ]
  },
  {
   "cell_type": "markdown",
   "id": "b04f80b2-b755-4772-b04d-4f54e07dfafc",
   "metadata": {},
   "source": [
    "## Exercise 4: Data Science Languages Markdown Cell"
   ]
  },
  {
   "cell_type": "markdown",
   "id": "9e2b3727-e66f-4300-a6ee-02635ead1fff",
   "metadata": {},
   "source": [
    "Some of the popular languages that Data Scientists use are:\n",
    "1. Python\n",
    "2. R\n",
    "3. SQL\n"
   ]
  },
  {
   "cell_type": "markdown",
   "id": "f58ba938-37da-4ef2-851b-9e40f1a35126",
   "metadata": {},
   "source": [
    "## Exercise 5: Data Science Libraries Markdown Cell"
   ]
  },
  {
   "cell_type": "markdown",
   "id": "bca8bf2a-dc14-4740-9aa6-abd95416f2aa",
   "metadata": {},
   "source": [
    "Some of the commonly used libraries used by Data Scientists include:\n",
    "1. NumPy\n",
    "2. Pandas\n",
    "3. Matplotlib\n"
   ]
  },
  {
   "cell_type": "markdown",
   "id": "fe12d5e5-12c1-4c0d-9ebf-c281e00d9d80",
   "metadata": {},
   "source": [
    "## Exercise 6: Data Science Tools Table Markdown Cell"
   ]
  },
  {
   "cell_type": "markdown",
   "id": "dcb966e3-c094-43a8-ad0f-fb92c0d22aa5",
   "metadata": {},
   "source": [
    "| Data Science Tools |\n",
    "|------------------|\n",
    "| Jupyter Notebook |\n",
    "| RStudio          |\n",
    "| VS Code          |\n"
   ]
  },
  {
   "cell_type": "markdown",
   "id": "38770e55-352f-4e52-a14f-55895f7acf60",
   "metadata": {},
   "source": [
    "## Exercise 7: Arithmetic Expression Introduction Markdown Cell"
   ]
  },
  {
   "cell_type": "markdown",
   "id": "95e32c98-85b6-40a0-a161-276e34423457",
   "metadata": {},
   "source": [
    "### Below are a few examples of evaluating arithmetic expressions in Python.\n"
   ]
  },
  {
   "cell_type": "markdown",
   "id": "f86eef45-93fe-453d-84d5-e0db0feef64b",
   "metadata": {},
   "source": [
    "## Exercise 8: Multiply and Add Code Cell"
   ]
  },
  {
   "cell_type": "code",
   "execution_count": 1,
   "id": "1fc95d94-187f-4e0a-81f9-37c0e8a6202c",
   "metadata": {},
   "outputs": [
    {
     "data": {
      "text/plain": [
       "17"
      ]
     },
     "execution_count": 1,
     "metadata": {},
     "output_type": "execute_result"
    }
   ],
   "source": [
    "# This is a simple arithmetic expression to multiply then add integers\n",
    "(3 * 4) + 5\n"
   ]
  },
  {
   "cell_type": "markdown",
   "id": "019da3af-4498-4995-b0c2-9494d76dc877",
   "metadata": {},
   "source": [
    "## Exercise 9: Convert Minutes to Hours Code Cell"
   ]
  },
  {
   "cell_type": "code",
   "execution_count": 2,
   "id": "4a3b14dc-83d0-4bc6-9f04-cb9e77549ad7",
   "metadata": {},
   "outputs": [
    {
     "data": {
      "text/plain": [
       "3.3333333333333335"
      ]
     },
     "execution_count": 2,
     "metadata": {},
     "output_type": "execute_result"
    }
   ],
   "source": [
    "# This will convert 200 minutes to hours by dividing by 60\n",
    "200 / 60\n"
   ]
  },
  {
   "cell_type": "markdown",
   "id": "02c24d52-226e-44b7-aa5b-94c7c1718e53",
   "metadata": {},
   "source": [
    "## Exercise 10: Objectives Markdown Cell"
   ]
  },
  {
   "cell_type": "markdown",
   "id": "abce3445-ae9e-4e50-9368-02f2bf06e449",
   "metadata": {},
   "source": [
    "**Objectives:**\n",
    "- List popular languages for Data Science\n",
    "- List commonly used libraries for Data Science\n",
    "- Identify key tools for Data Science\n",
    "- Demonstrate simple arithmetic operations in Python\n",
    "- Convert time units programmatically\n"
   ]
  },
  {
   "cell_type": "markdown",
   "id": "17bfe692-9b50-4651-8d5f-53af0c1533a1",
   "metadata": {},
   "source": [
    "## Exercise 11: Author Markdown Cell"
   ]
  },
  {
   "cell_type": "markdown",
   "id": "15f6f0be-8d9b-419e-b6d6-5b5e6f739017",
   "metadata": {},
   "source": [
    "## Author\n",
    "Sakshi Bhardwaj\n"
   ]
  }
 ],
 "metadata": {
  "kernelspec": {
   "display_name": "Python 3 (ipykernel)",
   "language": "python",
   "name": "python3"
  },
  "language_info": {
   "codemirror_mode": {
    "name": "ipython",
    "version": 3
   },
   "file_extension": ".py",
   "mimetype": "text/x-python",
   "name": "python",
   "nbconvert_exporter": "python",
   "pygments_lexer": "ipython3",
   "version": "3.12.8"
  }
 },
 "nbformat": 4,
 "nbformat_minor": 5
}
